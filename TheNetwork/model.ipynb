{
 "cells": [
  {
   "cell_type": "code",
   "execution_count": 1,
   "metadata": {},
   "outputs": [
    {
     "name": "stderr",
     "output_type": "stream",
     "text": [
      "Using TensorFlow backend.\n"
     ]
    }
   ],
   "source": [
    "from __future__ import print_function\n",
    "import keras\n",
    "from keras.models import load_model\n",
    "from keras.models import Sequential\n",
    "from keras.layers import Dense, Activation\n",
    "\n",
    "\n",
    "from keras.datasets import cifar100\n",
    "from keras.preprocessing.image import ImageDataGenerator\n",
    "from keras.models import Sequential\n",
    "from keras.layers import Dense, Dropout, Activation, Flatten\n",
    "from keras.layers import Conv2D, MaxPooling2D, BatchNormalization\n",
    "from keras import optimizers\n",
    "import numpy as np\n",
    "from keras.layers.core import Lambda\n",
    "from keras import backend as K\n",
    "from keras import regularizers"
   ]
  },
  {
   "cell_type": "code",
   "execution_count": null,
   "metadata": {},
   "outputs": [
    {
     "name": "stderr",
     "output_type": "stream",
     "text": [
      "Using TensorFlow backend.\n"
     ]
    },
    {
     "name": "stdout",
     "output_type": "stream",
     "text": [
      "Epoch 1/250\n"
     ]
    }
   ],
   "source": [
    "# load model\n",
    "\n",
    "import sys\n",
    "import os\n",
    "\n",
    "data_path = r\"C:\\Users\\Asya\\Code\\dataHack\\data\"\n",
    "git_dir = r\"C:\\Users\\Asya\\Code\\dataHack\\TheImageWhisperer\"\n",
    "sys.path.insert(1, git_dir)\n",
    "sys.path.insert(1, os.path.join(git_dir, \"TheNetwork\"))\n",
    "from TheNetwork.whisper_detector import WhisperDetector\n",
    "\n",
    "model = WhisperDetector(data_path)\n",
    "model.build()\n",
    "model.train()"
   ]
  },
  {
   "cell_type": "code",
   "execution_count": null,
   "metadata": {},
   "outputs": [],
   "source": []
  },
  {
   "cell_type": "code",
   "execution_count": null,
   "metadata": {},
   "outputs": [],
   "source": []
  }
 ],
 "metadata": {
  "accelerator": "GPU",
  "colab": {
   "collapsed_sections": [],
   "name": "Copy of Full version.ipynb",
   "provenance": [
    {
     "file_id": "1Lx4u70ofpa2xBuiRbL-oI8tlflAnOJW5",
     "timestamp": 1535205627449
    },
    {
     "file_id": "https://github.com/emilwallner/Coloring-greyscale-images-in-Keras/blob/master/local/Beta-version/beta_version.ipynb",
     "timestamp": 1533758320191
    }
   ],
   "version": "0.3.2"
  },
  "kernelspec": {
   "display_name": "Python 3",
   "language": "python",
   "name": "python3"
  },
  "language_info": {
   "codemirror_mode": {
    "name": "ipython",
    "version": 3
   },
   "file_extension": ".py",
   "mimetype": "text/x-python",
   "name": "python",
   "nbconvert_exporter": "python",
   "pygments_lexer": "ipython3",
   "version": "3.6.4"
  }
 },
 "nbformat": 4,
 "nbformat_minor": 1
}
