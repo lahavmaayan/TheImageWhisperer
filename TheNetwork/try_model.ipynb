{
 "cells": [
  {
   "cell_type": "code",
   "execution_count": 1,
   "metadata": {},
   "outputs": [
    {
     "name": "stderr",
     "output_type": "stream",
     "text": [
      "Using TensorFlow backend.\n"
     ]
    },
    {
     "name": "stdout",
     "output_type": "stream",
     "text": [
      "Epoch 1/2\n",
      " - 41s - loss: 0.8353 - acc: 0.5234 - val_loss: 0.8345 - val_acc: 0.5099\n",
      "Epoch 2/2\n",
      " - 26s - loss: 0.8378 - acc: 0.4693 - val_loss: 0.8331 - val_acc: 0.5197\n"
     ]
    }
   ],
   "source": [
    "# load model\n",
    "import sys\n",
    "import os\n",
    "\n",
    "git_dir = r\"C:\\Users\\Asya\\Code\\dataHack\\TheImageWhisperer\"\n",
    "sys.path.insert(1, git_dir)\n",
    "sys.path.insert(1, os.path.join(git_dir, \"TheNetwork\"))\n",
    "from TheNetwork.whisper_detector import WhisperDetector\n",
    "\n",
    "model = WhisperDetector()\n",
    "model.build()\n",
    "model.train()"
   ]
  },
  {
   "cell_type": "code",
   "execution_count": 3,
   "metadata": {},
   "outputs": [
    {
     "name": "stdout",
     "output_type": "stream",
     "text": [
      "Predicted not stegged with prob 0.472368\n"
     ]
    }
   ],
   "source": [
    "# test model\n",
    "\n",
    "def print_prediction(y_pred):\n",
    "    if y_pred[0] > 0.5:\n",
    "        print(\"Predicted stegged with prob %f\" %y_pred)\n",
    "    else:\n",
    "        print(\"Predicted not stegged with prob %f\" %y_pred)\n",
    "\n",
    "img = r\"C:\\Users\\Asya\\Code\\dataHack\\data\\test\\stegged\\image934_798.jpg\"\n",
    "\n",
    "y_pred = model.predict(img)\n",
    "print_prediction(y_pred)"
   ]
  },
  {
   "cell_type": "code",
   "execution_count": null,
   "metadata": {},
   "outputs": [],
   "source": []
  }
 ],
 "metadata": {
  "accelerator": "GPU",
  "colab": {
   "collapsed_sections": [],
   "name": "Copy of Full version.ipynb",
   "provenance": [
    {
     "file_id": "1Lx4u70ofpa2xBuiRbL-oI8tlflAnOJW5",
     "timestamp": 1535205627449
    },
    {
     "file_id": "https://github.com/emilwallner/Coloring-greyscale-images-in-Keras/blob/master/local/Beta-version/beta_version.ipynb",
     "timestamp": 1533758320191
    }
   ],
   "version": "0.3.2"
  },
  "kernelspec": {
   "display_name": "Python 3",
   "language": "python",
   "name": "python3"
  },
  "language_info": {
   "codemirror_mode": {
    "name": "ipython",
    "version": 3
   },
   "file_extension": ".py",
   "mimetype": "text/x-python",
   "name": "python",
   "nbconvert_exporter": "python",
   "pygments_lexer": "ipython3",
   "version": "3.6.4"
  }
 },
 "nbformat": 4,
 "nbformat_minor": 1
}
