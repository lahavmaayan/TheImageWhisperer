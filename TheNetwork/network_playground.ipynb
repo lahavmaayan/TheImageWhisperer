{
 "cells": [
  {
   "cell_type": "code",
   "execution_count": 1,
   "metadata": {
    "collapsed": false
   },
   "outputs": [
    {
     "name": "stderr",
     "output_type": "stream",
     "text": [
      "Using TensorFlow backend.\n"
     ]
    }
   ],
   "source": [
    "import os \n",
    "import numpy as np \n",
    "from keras.preprocessing import image\n",
    "import cv2\n",
    "import json\n",
    "import matplotlib.pyplot as plt\n",
    "%matplotlib inline\n",
    "\n",
    "from pre_trained_network_architecture import PreTrainedModelArchitecture\n",
    "from image_utils import ImageUtils"
   ]
  },
  {
   "cell_type": "code",
   "execution_count": 2,
   "metadata": {
    "collapsed": true
   },
   "outputs": [],
   "source": [
    "image_utils = ImageUtils()"
   ]
  },
  {
   "cell_type": "code",
   "execution_count": 3,
   "metadata": {
    "collapsed": false
   },
   "outputs": [
    {
     "data": {
      "image/png": "[encoded data removed]",
      "text/plain": [
       "<matplotlib.figure.Figure at 0x1aeabb80da0>"
      ]
     },
     "metadata": {},
     "output_type": "display_data"
    }
   ],
   "source": [
    "a = image_utils.json_filename_to_array(image_utils.IMAGES_DIR + '/not_stegged/image0.json')\n",
    "image_utils.show_img_array_in_notebook(a)"
   ]
  },
  {
   "cell_type": "code",
   "execution_count": 4,
   "metadata": {
    "collapsed": true
   },
   "outputs": [],
   "source": [
    "pre_trained_network_architecture = PreTrainedModelArchitecture()"
   ]
  },
  {
   "cell_type": "code",
   "execution_count": 11,
   "metadata": {
    "collapsed": true
   },
   "outputs": [],
   "source": [
    "from keras.layers import Dense\n",
    "from keras.models import Model"
   ]
  },
  {
   "cell_type": "code",
   "execution_count": 6,
   "metadata": {
    "collapsed": true
   },
   "outputs": [],
   "source": [
    "model = pre_trained_network_architecture.model"
   ]
  },
  {
   "cell_type": "code",
   "execution_count": 7,
   "metadata": {
    "collapsed": false
   },
   "outputs": [
    {
     "data": {
      "text/plain": [
       "<tf.Tensor 'conv2d_1_input:0' shape=(?, 32, 32, 3) dtype=float32>"
      ]
     },
     "execution_count": 7,
     "metadata": {},
     "output_type": "execute_result"
    }
   ],
   "source": [
    "model.input"
   ]
  },
  {
   "cell_type": "code",
   "execution_count": 8,
   "metadata": {
    "collapsed": false
   },
   "outputs": [
    {
     "name": "stdout",
     "output_type": "stream",
     "text": [
      "______________________________________________________________________________________________________________________________________________________\n",
      "Layer (type)                                                       Output Shape                                                Param #                \n",
      "======================================================================================================================================================\n",
      "conv2d_1 (Conv2D)                                                  (None, 32, 32, 64)                                          1792                   \n",
      "______________________________________________________________________________________________________________________________________________________\n",
      "activation_1 (Activation)                                          (None, 32, 32, 64)                                          0                      \n",
      "______________________________________________________________________________________________________________________________________________________\n",
      "batch_normalization_1 (BatchNormalization)                         (None, 32, 32, 64)                                          256                    \n",
      "______________________________________________________________________________________________________________________________________________________\n",
      "dropout_1 (Dropout)                                                (None, 32, 32, 64)                                          0                      \n",
      "______________________________________________________________________________________________________________________________________________________\n",
      "conv2d_2 (Conv2D)                                                  (None, 32, 32, 64)                                          36928                  \n",
      "______________________________________________________________________________________________________________________________________________________\n",
      "activation_2 (Activation)                                          (None, 32, 32, 64)                                          0                      \n",
      "______________________________________________________________________________________________________________________________________________________\n",
      "batch_normalization_2 (BatchNormalization)                         (None, 32, 32, 64)                                          256                    \n",
      "______________________________________________________________________________________________________________________________________________________\n",
      "max_pooling2d_1 (MaxPooling2D)                                     (None, 16, 16, 64)                                          0                      \n",
      "______________________________________________________________________________________________________________________________________________________\n",
      "conv2d_3 (Conv2D)                                                  (None, 16, 16, 128)                                         73856                  \n",
      "______________________________________________________________________________________________________________________________________________________\n",
      "activation_3 (Activation)                                          (None, 16, 16, 128)                                         0                      \n",
      "______________________________________________________________________________________________________________________________________________________\n",
      "batch_normalization_3 (BatchNormalization)                         (None, 16, 16, 128)                                         512                    \n",
      "______________________________________________________________________________________________________________________________________________________\n",
      "dropout_2 (Dropout)                                                (None, 16, 16, 128)                                         0                      \n",
      "______________________________________________________________________________________________________________________________________________________\n",
      "conv2d_4 (Conv2D)                                                  (None, 16, 16, 128)                                         147584                 \n",
      "______________________________________________________________________________________________________________________________________________________\n",
      "activation_4 (Activation)                                          (None, 16, 16, 128)                                         0                      \n",
      "______________________________________________________________________________________________________________________________________________________\n",
      "batch_normalization_4 (BatchNormalization)                         (None, 16, 16, 128)                                         512                    \n",
      "______________________________________________________________________________________________________________________________________________________\n",
      "max_pooling2d_2 (MaxPooling2D)                                     (None, 8, 8, 128)                                           0                      \n",
      "______________________________________________________________________________________________________________________________________________________\n",
      "conv2d_5 (Conv2D)                                                  (None, 8, 8, 256)                                           295168                 \n",
      "______________________________________________________________________________________________________________________________________________________\n",
      "activation_5 (Activation)                                          (None, 8, 8, 256)                                           0                      \n",
      "______________________________________________________________________________________________________________________________________________________\n",
      "batch_normalization_5 (BatchNormalization)                         (None, 8, 8, 256)                                           1024                   \n",
      "______________________________________________________________________________________________________________________________________________________\n",
      "dropout_3 (Dropout)                                                (None, 8, 8, 256)                                           0                      \n",
      "______________________________________________________________________________________________________________________________________________________\n",
      "conv2d_6 (Conv2D)                                                  (None, 8, 8, 256)                                           590080                 \n",
      "______________________________________________________________________________________________________________________________________________________\n",
      "activation_6 (Activation)                                          (None, 8, 8, 256)                                           0                      \n",
      "______________________________________________________________________________________________________________________________________________________\n",
      "batch_normalization_6 (BatchNormalization)                         (None, 8, 8, 256)                                           1024                   \n",
      "______________________________________________________________________________________________________________________________________________________\n",
      "dropout_4 (Dropout)                                                (None, 8, 8, 256)                                           0                      \n",
      "______________________________________________________________________________________________________________________________________________________\n",
      "conv2d_7 (Conv2D)                                                  (None, 8, 8, 256)                                           590080                 \n",
      "______________________________________________________________________________________________________________________________________________________\n",
      "activation_7 (Activation)                                          (None, 8, 8, 256)                                           0                      \n",
      "______________________________________________________________________________________________________________________________________________________\n",
      "batch_normalization_7 (BatchNormalization)                         (None, 8, 8, 256)                                           1024                   \n",
      "______________________________________________________________________________________________________________________________________________________\n",
      "max_pooling2d_3 (MaxPooling2D)                                     (None, 4, 4, 256)                                           0                      \n",
      "______________________________________________________________________________________________________________________________________________________\n",
      "conv2d_8 (Conv2D)                                                  (None, 4, 4, 512)                                           1180160                \n",
      "______________________________________________________________________________________________________________________________________________________\n",
      "activation_8 (Activation)                                          (None, 4, 4, 512)                                           0                      \n",
      "______________________________________________________________________________________________________________________________________________________\n",
      "batch_normalization_8 (BatchNormalization)                         (None, 4, 4, 512)                                           2048                   \n",
      "______________________________________________________________________________________________________________________________________________________\n",
      "dropout_5 (Dropout)                                                (None, 4, 4, 512)                                           0                      \n",
      "______________________________________________________________________________________________________________________________________________________\n",
      "conv2d_9 (Conv2D)                                                  (None, 4, 4, 512)                                           2359808                \n",
      "______________________________________________________________________________________________________________________________________________________\n",
      "activation_9 (Activation)                                          (None, 4, 4, 512)                                           0                      \n",
      "______________________________________________________________________________________________________________________________________________________\n",
      "batch_normalization_9 (BatchNormalization)                         (None, 4, 4, 512)                                           2048                   \n",
      "______________________________________________________________________________________________________________________________________________________\n",
      "dropout_6 (Dropout)                                                (None, 4, 4, 512)                                           0                      \n",
      "______________________________________________________________________________________________________________________________________________________\n",
      "conv2d_10 (Conv2D)                                                 (None, 4, 4, 512)                                           2359808                \n",
      "______________________________________________________________________________________________________________________________________________________\n",
      "activation_10 (Activation)                                         (None, 4, 4, 512)                                           0                      \n",
      "______________________________________________________________________________________________________________________________________________________\n",
      "batch_normalization_10 (BatchNormalization)                        (None, 4, 4, 512)                                           2048                   \n",
      "______________________________________________________________________________________________________________________________________________________\n",
      "max_pooling2d_4 (MaxPooling2D)                                     (None, 2, 2, 512)                                           0                      \n",
      "______________________________________________________________________________________________________________________________________________________\n",
      "conv2d_11 (Conv2D)                                                 (None, 2, 2, 512)                                           2359808                \n",
      "______________________________________________________________________________________________________________________________________________________\n",
      "activation_11 (Activation)                                         (None, 2, 2, 512)                                           0                      \n",
      "______________________________________________________________________________________________________________________________________________________\n",
      "batch_normalization_11 (BatchNormalization)                        (None, 2, 2, 512)                                           2048                   \n",
      "______________________________________________________________________________________________________________________________________________________\n",
      "dropout_7 (Dropout)                                                (None, 2, 2, 512)                                           0                      \n",
      "______________________________________________________________________________________________________________________________________________________\n",
      "conv2d_12 (Conv2D)                                                 (None, 2, 2, 512)                                           2359808                \n",
      "______________________________________________________________________________________________________________________________________________________\n",
      "activation_12 (Activation)                                         (None, 2, 2, 512)                                           0                      \n",
      "______________________________________________________________________________________________________________________________________________________\n",
      "batch_normalization_12 (BatchNormalization)                        (None, 2, 2, 512)                                           2048                   \n",
      "______________________________________________________________________________________________________________________________________________________\n",
      "dropout_8 (Dropout)                                                (None, 2, 2, 512)                                           0                      \n",
      "______________________________________________________________________________________________________________________________________________________\n",
      "conv2d_13 (Conv2D)                                                 (None, 2, 2, 512)                                           2359808                \n",
      "______________________________________________________________________________________________________________________________________________________\n",
      "activation_13 (Activation)                                         (None, 2, 2, 512)                                           0                      \n",
      "______________________________________________________________________________________________________________________________________________________\n",
      "batch_normalization_13 (BatchNormalization)                        (None, 2, 2, 512)                                           2048                   \n",
      "______________________________________________________________________________________________________________________________________________________\n",
      "max_pooling2d_5 (MaxPooling2D)                                     (None, 1, 1, 512)                                           0                      \n",
      "______________________________________________________________________________________________________________________________________________________\n",
      "dropout_9 (Dropout)                                                (None, 1, 1, 512)                                           0                      \n",
      "______________________________________________________________________________________________________________________________________________________\n",
      "flatten_1 (Flatten)                                                (None, 512)                                                 0                      \n",
      "______________________________________________________________________________________________________________________________________________________\n",
      "dense_1 (Dense)                                                    (None, 512)                                                 262656                 \n",
      "______________________________________________________________________________________________________________________________________________________\n",
      "activation_14 (Activation)                                         (None, 512)                                                 0                      \n",
      "______________________________________________________________________________________________________________________________________________________\n",
      "batch_normalization_14 (BatchNormalization)                        (None, 512)                                                 2048                   \n",
      "______________________________________________________________________________________________________________________________________________________\n",
      "dropout_10 (Dropout)                                               (None, 512)                                                 0                      \n",
      "______________________________________________________________________________________________________________________________________________________\n",
      "dense_2 (Dense)                                                    (None, 100)                                                 51300                  \n",
      "______________________________________________________________________________________________________________________________________________________\n",
      "activation_15 (Activation)                                         (None, 100)                                                 0                      \n",
      "======================================================================================================================================================\n",
      "Total params: 15,047,588\n",
      "Trainable params: 15,038,116\n",
      "Non-trainable params: 9,472\n",
      "______________________________________________________________________________________________________________________________________________________\n"
     ]
    }
   ],
   "source": [
    "model.summary(line_length=150)"
   ]
  },
  {
   "cell_type": "code",
   "execution_count": 9,
   "metadata": {
    "collapsed": false
   },
   "outputs": [
    {
     "name": "stdout",
     "output_type": "stream",
     "text": [
      "______________________________________________________________________________________________________________________________________________________\n",
      "Layer (type)                                                       Output Shape                                                Param #                \n",
      "======================================================================================================================================================\n",
      "conv2d_1 (Conv2D)                                                  (None, 32, 32, 64)                                          1792                   \n",
      "______________________________________________________________________________________________________________________________________________________\n",
      "activation_1 (Activation)                                          (None, 32, 32, 64)                                          0                      \n",
      "______________________________________________________________________________________________________________________________________________________\n",
      "batch_normalization_1 (BatchNormalization)                         (None, 32, 32, 64)                                          256                    \n",
      "______________________________________________________________________________________________________________________________________________________\n",
      "dropout_1 (Dropout)                                                (None, 32, 32, 64)                                          0                      \n",
      "______________________________________________________________________________________________________________________________________________________\n",
      "conv2d_2 (Conv2D)                                                  (None, 32, 32, 64)                                          36928                  \n",
      "______________________________________________________________________________________________________________________________________________________\n",
      "activation_2 (Activation)                                          (None, 32, 32, 64)                                          0                      \n",
      "______________________________________________________________________________________________________________________________________________________\n",
      "batch_normalization_2 (BatchNormalization)                         (None, 32, 32, 64)                                          256                    \n",
      "______________________________________________________________________________________________________________________________________________________\n",
      "max_pooling2d_1 (MaxPooling2D)                                     (None, 16, 16, 64)                                          0                      \n",
      "______________________________________________________________________________________________________________________________________________________\n",
      "conv2d_3 (Conv2D)                                                  (None, 16, 16, 128)                                         73856                  \n",
      "______________________________________________________________________________________________________________________________________________________\n",
      "activation_3 (Activation)                                          (None, 16, 16, 128)                                         0                      \n",
      "______________________________________________________________________________________________________________________________________________________\n",
      "batch_normalization_3 (BatchNormalization)                         (None, 16, 16, 128)                                         512                    \n",
      "______________________________________________________________________________________________________________________________________________________\n",
      "dropout_2 (Dropout)                                                (None, 16, 16, 128)                                         0                      \n",
      "______________________________________________________________________________________________________________________________________________________\n",
      "conv2d_4 (Conv2D)                                                  (None, 16, 16, 128)                                         147584                 \n",
      "______________________________________________________________________________________________________________________________________________________\n",
      "activation_4 (Activation)                                          (None, 16, 16, 128)                                         0                      \n",
      "______________________________________________________________________________________________________________________________________________________\n",
      "batch_normalization_4 (BatchNormalization)                         (None, 16, 16, 128)                                         512                    \n",
      "______________________________________________________________________________________________________________________________________________________\n",
      "max_pooling2d_2 (MaxPooling2D)                                     (None, 8, 8, 128)                                           0                      \n",
      "______________________________________________________________________________________________________________________________________________________\n",
      "conv2d_5 (Conv2D)                                                  (None, 8, 8, 256)                                           295168                 \n",
      "______________________________________________________________________________________________________________________________________________________\n",
      "activation_5 (Activation)                                          (None, 8, 8, 256)                                           0                      \n",
      "______________________________________________________________________________________________________________________________________________________\n",
      "batch_normalization_5 (BatchNormalization)                         (None, 8, 8, 256)                                           1024                   \n",
      "______________________________________________________________________________________________________________________________________________________\n",
      "dropout_3 (Dropout)                                                (None, 8, 8, 256)                                           0                      \n",
      "______________________________________________________________________________________________________________________________________________________\n",
      "conv2d_6 (Conv2D)                                                  (None, 8, 8, 256)                                           590080                 \n",
      "______________________________________________________________________________________________________________________________________________________\n",
      "activation_6 (Activation)                                          (None, 8, 8, 256)                                           0                      \n",
      "______________________________________________________________________________________________________________________________________________________\n",
      "batch_normalization_6 (BatchNormalization)                         (None, 8, 8, 256)                                           1024                   \n",
      "______________________________________________________________________________________________________________________________________________________\n",
      "dropout_4 (Dropout)                                                (None, 8, 8, 256)                                           0                      \n",
      "______________________________________________________________________________________________________________________________________________________\n",
      "conv2d_7 (Conv2D)                                                  (None, 8, 8, 256)                                           590080                 \n",
      "______________________________________________________________________________________________________________________________________________________\n",
      "activation_7 (Activation)                                          (None, 8, 8, 256)                                           0                      \n",
      "______________________________________________________________________________________________________________________________________________________\n",
      "batch_normalization_7 (BatchNormalization)                         (None, 8, 8, 256)                                           1024                   \n",
      "______________________________________________________________________________________________________________________________________________________\n",
      "max_pooling2d_3 (MaxPooling2D)                                     (None, 4, 4, 256)                                           0                      \n",
      "______________________________________________________________________________________________________________________________________________________\n",
      "conv2d_8 (Conv2D)                                                  (None, 4, 4, 512)                                           1180160                \n",
      "______________________________________________________________________________________________________________________________________________________\n",
      "activation_8 (Activation)                                          (None, 4, 4, 512)                                           0                      \n",
      "______________________________________________________________________________________________________________________________________________________\n",
      "batch_normalization_8 (BatchNormalization)                         (None, 4, 4, 512)                                           2048                   \n",
      "______________________________________________________________________________________________________________________________________________________\n",
      "dropout_5 (Dropout)                                                (None, 4, 4, 512)                                           0                      \n",
      "______________________________________________________________________________________________________________________________________________________\n",
      "conv2d_9 (Conv2D)                                                  (None, 4, 4, 512)                                           2359808                \n",
      "______________________________________________________________________________________________________________________________________________________\n",
      "activation_9 (Activation)                                          (None, 4, 4, 512)                                           0                      \n",
      "______________________________________________________________________________________________________________________________________________________\n",
      "batch_normalization_9 (BatchNormalization)                         (None, 4, 4, 512)                                           2048                   \n",
      "______________________________________________________________________________________________________________________________________________________\n",
      "dropout_6 (Dropout)                                                (None, 4, 4, 512)                                           0                      \n",
      "______________________________________________________________________________________________________________________________________________________\n",
      "conv2d_10 (Conv2D)                                                 (None, 4, 4, 512)                                           2359808                \n",
      "______________________________________________________________________________________________________________________________________________________\n",
      "activation_10 (Activation)                                         (None, 4, 4, 512)                                           0                      \n",
      "______________________________________________________________________________________________________________________________________________________\n",
      "batch_normalization_10 (BatchNormalization)                        (None, 4, 4, 512)                                           2048                   \n",
      "______________________________________________________________________________________________________________________________________________________\n",
      "max_pooling2d_4 (MaxPooling2D)                                     (None, 2, 2, 512)                                           0                      \n",
      "______________________________________________________________________________________________________________________________________________________\n",
      "conv2d_11 (Conv2D)                                                 (None, 2, 2, 512)                                           2359808                \n",
      "______________________________________________________________________________________________________________________________________________________\n",
      "activation_11 (Activation)                                         (None, 2, 2, 512)                                           0                      \n",
      "______________________________________________________________________________________________________________________________________________________\n",
      "batch_normalization_11 (BatchNormalization)                        (None, 2, 2, 512)                                           2048                   \n",
      "______________________________________________________________________________________________________________________________________________________\n",
      "dropout_7 (Dropout)                                                (None, 2, 2, 512)                                           0                      \n",
      "______________________________________________________________________________________________________________________________________________________\n",
      "conv2d_12 (Conv2D)                                                 (None, 2, 2, 512)                                           2359808                \n",
      "______________________________________________________________________________________________________________________________________________________\n",
      "activation_12 (Activation)                                         (None, 2, 2, 512)                                           0                      \n",
      "______________________________________________________________________________________________________________________________________________________\n",
      "batch_normalization_12 (BatchNormalization)                        (None, 2, 2, 512)                                           2048                   \n",
      "______________________________________________________________________________________________________________________________________________________\n",
      "dropout_8 (Dropout)                                                (None, 2, 2, 512)                                           0                      \n",
      "______________________________________________________________________________________________________________________________________________________\n",
      "conv2d_13 (Conv2D)                                                 (None, 2, 2, 512)                                           2359808                \n",
      "______________________________________________________________________________________________________________________________________________________\n",
      "activation_13 (Activation)                                         (None, 2, 2, 512)                                           0                      \n",
      "______________________________________________________________________________________________________________________________________________________\n",
      "batch_normalization_13 (BatchNormalization)                        (None, 2, 2, 512)                                           2048                   \n",
      "______________________________________________________________________________________________________________________________________________________\n",
      "max_pooling2d_5 (MaxPooling2D)                                     (None, 1, 1, 512)                                           0                      \n",
      "______________________________________________________________________________________________________________________________________________________\n",
      "dropout_9 (Dropout)                                                (None, 1, 1, 512)                                           0                      \n",
      "______________________________________________________________________________________________________________________________________________________\n",
      "flatten_1 (Flatten)                                                (None, 512)                                                 0                      \n",
      "______________________________________________________________________________________________________________________________________________________\n",
      "dense_1 (Dense)                                                    (None, 512)                                                 262656                 \n",
      "______________________________________________________________________________________________________________________________________________________\n",
      "activation_14 (Activation)                                         (None, 512)                                                 0                      \n",
      "______________________________________________________________________________________________________________________________________________________\n",
      "batch_normalization_14 (BatchNormalization)                        (None, 512)                                                 2048                   \n",
      "______________________________________________________________________________________________________________________________________________________\n",
      "dropout_10 (Dropout)                                               (None, 512)                                                 0                      \n",
      "======================================================================================================================================================\n",
      "Total params: 14,996,288\n",
      "Trainable params: 14,986,816\n",
      "Non-trainable params: 9,472\n",
      "______________________________________________________________________________________________________________________________________________________\n"
     ]
    }
   ],
   "source": [
    "model.layers.pop()\n",
    "model.layers.pop()\n",
    "\n",
    "model.summary(line_length=150)"
   ]
  },
  {
   "cell_type": "code",
   "execution_count": 14,
   "metadata": {
    "collapsed": false
   },
   "outputs": [
    {
     "name": "stdout",
     "output_type": "stream",
     "text": [
      "______________________________________________________________________________________________________________________________________________________\n",
      "Layer (type)                                                       Output Shape                                                Param #                \n",
      "======================================================================================================================================================\n",
      "conv2d_1_input (InputLayer)                                        (None, 32, 32, 3)                                           0                      \n",
      "______________________________________________________________________________________________________________________________________________________\n",
      "conv2d_1 (Conv2D)                                                  (None, 32, 32, 64)                                          1792                   \n",
      "______________________________________________________________________________________________________________________________________________________\n",
      "activation_1 (Activation)                                          (None, 32, 32, 64)                                          0                      \n",
      "______________________________________________________________________________________________________________________________________________________\n",
      "batch_normalization_1 (BatchNormalization)                         (None, 32, 32, 64)                                          256                    \n",
      "______________________________________________________________________________________________________________________________________________________\n",
      "dropout_1 (Dropout)                                                (None, 32, 32, 64)                                          0                      \n",
      "______________________________________________________________________________________________________________________________________________________\n",
      "conv2d_2 (Conv2D)                                                  (None, 32, 32, 64)                                          36928                  \n",
      "______________________________________________________________________________________________________________________________________________________\n",
      "activation_2 (Activation)                                          (None, 32, 32, 64)                                          0                      \n",
      "______________________________________________________________________________________________________________________________________________________\n",
      "batch_normalization_2 (BatchNormalization)                         (None, 32, 32, 64)                                          256                    \n",
      "______________________________________________________________________________________________________________________________________________________\n",
      "max_pooling2d_1 (MaxPooling2D)                                     (None, 16, 16, 64)                                          0                      \n",
      "______________________________________________________________________________________________________________________________________________________\n",
      "conv2d_3 (Conv2D)                                                  (None, 16, 16, 128)                                         73856                  \n",
      "______________________________________________________________________________________________________________________________________________________\n",
      "activation_3 (Activation)                                          (None, 16, 16, 128)                                         0                      \n",
      "______________________________________________________________________________________________________________________________________________________\n",
      "batch_normalization_3 (BatchNormalization)                         (None, 16, 16, 128)                                         512                    \n",
      "______________________________________________________________________________________________________________________________________________________\n",
      "dropout_2 (Dropout)                                                (None, 16, 16, 128)                                         0                      \n",
      "______________________________________________________________________________________________________________________________________________________\n",
      "conv2d_4 (Conv2D)                                                  (None, 16, 16, 128)                                         147584                 \n",
      "______________________________________________________________________________________________________________________________________________________\n",
      "activation_4 (Activation)                                          (None, 16, 16, 128)                                         0                      \n",
      "______________________________________________________________________________________________________________________________________________________\n",
      "batch_normalization_4 (BatchNormalization)                         (None, 16, 16, 128)                                         512                    \n",
      "______________________________________________________________________________________________________________________________________________________\n",
      "max_pooling2d_2 (MaxPooling2D)                                     (None, 8, 8, 128)                                           0                      \n",
      "______________________________________________________________________________________________________________________________________________________\n",
      "conv2d_5 (Conv2D)                                                  (None, 8, 8, 256)                                           295168                 \n",
      "______________________________________________________________________________________________________________________________________________________\n",
      "activation_5 (Activation)                                          (None, 8, 8, 256)                                           0                      \n",
      "______________________________________________________________________________________________________________________________________________________\n",
      "batch_normalization_5 (BatchNormalization)                         (None, 8, 8, 256)                                           1024                   \n",
      "______________________________________________________________________________________________________________________________________________________\n",
      "dropout_3 (Dropout)                                                (None, 8, 8, 256)                                           0                      \n",
      "______________________________________________________________________________________________________________________________________________________\n",
      "conv2d_6 (Conv2D)                                                  (None, 8, 8, 256)                                           590080                 \n",
      "______________________________________________________________________________________________________________________________________________________\n",
      "activation_6 (Activation)                                          (None, 8, 8, 256)                                           0                      \n",
      "______________________________________________________________________________________________________________________________________________________\n",
      "batch_normalization_6 (BatchNormalization)                         (None, 8, 8, 256)                                           1024                   \n",
      "______________________________________________________________________________________________________________________________________________________\n",
      "dropout_4 (Dropout)                                                (None, 8, 8, 256)                                           0                      \n",
      "______________________________________________________________________________________________________________________________________________________\n",
      "conv2d_7 (Conv2D)                                                  (None, 8, 8, 256)                                           590080                 \n",
      "______________________________________________________________________________________________________________________________________________________\n",
      "activation_7 (Activation)                                          (None, 8, 8, 256)                                           0                      \n",
      "______________________________________________________________________________________________________________________________________________________\n",
      "batch_normalization_7 (BatchNormalization)                         (None, 8, 8, 256)                                           1024                   \n",
      "______________________________________________________________________________________________________________________________________________________\n",
      "max_pooling2d_3 (MaxPooling2D)                                     (None, 4, 4, 256)                                           0                      \n",
      "______________________________________________________________________________________________________________________________________________________\n",
      "conv2d_8 (Conv2D)                                                  (None, 4, 4, 512)                                           1180160                \n",
      "______________________________________________________________________________________________________________________________________________________\n",
      "activation_8 (Activation)                                          (None, 4, 4, 512)                                           0                      \n",
      "______________________________________________________________________________________________________________________________________________________\n",
      "batch_normalization_8 (BatchNormalization)                         (None, 4, 4, 512)                                           2048                   \n",
      "______________________________________________________________________________________________________________________________________________________\n",
      "dropout_5 (Dropout)                                                (None, 4, 4, 512)                                           0                      \n",
      "______________________________________________________________________________________________________________________________________________________\n",
      "conv2d_9 (Conv2D)                                                  (None, 4, 4, 512)                                           2359808                \n",
      "______________________________________________________________________________________________________________________________________________________\n",
      "activation_9 (Activation)                                          (None, 4, 4, 512)                                           0                      \n",
      "______________________________________________________________________________________________________________________________________________________\n",
      "batch_normalization_9 (BatchNormalization)                         (None, 4, 4, 512)                                           2048                   \n",
      "______________________________________________________________________________________________________________________________________________________\n",
      "dropout_6 (Dropout)                                                (None, 4, 4, 512)                                           0                      \n",
      "______________________________________________________________________________________________________________________________________________________\n",
      "conv2d_10 (Conv2D)                                                 (None, 4, 4, 512)                                           2359808                \n",
      "______________________________________________________________________________________________________________________________________________________\n",
      "activation_10 (Activation)                                         (None, 4, 4, 512)                                           0                      \n",
      "______________________________________________________________________________________________________________________________________________________\n",
      "batch_normalization_10 (BatchNormalization)                        (None, 4, 4, 512)                                           2048                   \n",
      "______________________________________________________________________________________________________________________________________________________\n",
      "max_pooling2d_4 (MaxPooling2D)                                     (None, 2, 2, 512)                                           0                      \n",
      "______________________________________________________________________________________________________________________________________________________\n",
      "conv2d_11 (Conv2D)                                                 (None, 2, 2, 512)                                           2359808                \n",
      "______________________________________________________________________________________________________________________________________________________\n",
      "activation_11 (Activation)                                         (None, 2, 2, 512)                                           0                      \n",
      "______________________________________________________________________________________________________________________________________________________\n",
      "batch_normalization_11 (BatchNormalization)                        (None, 2, 2, 512)                                           2048                   \n",
      "______________________________________________________________________________________________________________________________________________________\n",
      "dropout_7 (Dropout)                                                (None, 2, 2, 512)                                           0                      \n",
      "______________________________________________________________________________________________________________________________________________________\n",
      "conv2d_12 (Conv2D)                                                 (None, 2, 2, 512)                                           2359808                \n",
      "______________________________________________________________________________________________________________________________________________________\n",
      "activation_12 (Activation)                                         (None, 2, 2, 512)                                           0                      \n",
      "______________________________________________________________________________________________________________________________________________________\n",
      "batch_normalization_12 (BatchNormalization)                        (None, 2, 2, 512)                                           2048                   \n",
      "______________________________________________________________________________________________________________________________________________________\n",
      "dropout_8 (Dropout)                                                (None, 2, 2, 512)                                           0                      \n",
      "______________________________________________________________________________________________________________________________________________________\n",
      "conv2d_13 (Conv2D)                                                 (None, 2, 2, 512)                                           2359808                \n",
      "______________________________________________________________________________________________________________________________________________________\n",
      "activation_13 (Activation)                                         (None, 2, 2, 512)                                           0                      \n",
      "______________________________________________________________________________________________________________________________________________________\n",
      "batch_normalization_13 (BatchNormalization)                        (None, 2, 2, 512)                                           2048                   \n",
      "______________________________________________________________________________________________________________________________________________________\n",
      "max_pooling2d_5 (MaxPooling2D)                                     (None, 1, 1, 512)                                           0                      \n",
      "______________________________________________________________________________________________________________________________________________________\n",
      "dropout_9 (Dropout)                                                (None, 1, 1, 512)                                           0                      \n",
      "______________________________________________________________________________________________________________________________________________________\n",
      "flatten_1 (Flatten)                                                (None, 512)                                                 0                      \n",
      "______________________________________________________________________________________________________________________________________________________\n",
      "dense_1 (Dense)                                                    (None, 512)                                                 262656                 \n",
      "______________________________________________________________________________________________________________________________________________________\n",
      "activation_14 (Activation)                                         (None, 512)                                                 0                      \n",
      "______________________________________________________________________________________________________________________________________________________\n",
      "batch_normalization_14 (BatchNormalization)                        (None, 512)                                                 2048                   \n",
      "______________________________________________________________________________________________________________________________________________________\n",
      "dropout_10 (Dropout)                                               (None, 512)                                                 0                      \n",
      "______________________________________________________________________________________________________________________________________________________\n",
      "new_dense_layer (Dense)                                            (None, 10)                                                  5130                   \n",
      "______________________________________________________________________________________________________________________________________________________\n",
      "new_binary_classification_layer (Dense)                            (None, 1)                                                   11                     \n",
      "======================================================================================================================================================\n",
      "Total params: 15,001,429\n",
      "Trainable params: 14,991,957\n",
      "Non-trainable params: 9,472\n",
      "______________________________________________________________________________________________________________________________________________________\n"
     ]
    }
   ],
   "source": [
    "new_dense_layer = Dense(10, activation='relu', name='new_dense_layer')\n",
    "new_binary_classification_layer = Dense(1, activation='sigmoid', name='new_binary_classification_layer')\n",
    "\n",
    "inp = model.input\n",
    "middle = new_dense_layer(model.layers[-1].output)\n",
    "out = new_binary_classification_layer(middle)\n",
    "\n",
    "model2 = Model(inp, out)\n",
    "model2.summary(line_length=150)"
   ]
  },
  {
   "cell_type": "code",
   "execution_count": 15,
   "metadata": {
    "collapsed": false
   },
   "outputs": [
    {
     "data": {
      "text/plain": [
       "array([[ 0.45208338]], dtype=float32)"
      ]
     },
     "execution_count": 15,
     "metadata": {},
     "output_type": "execute_result"
    }
   ],
   "source": [
    "model2.predict(np.array([a]))"
   ]
  },
  {
   "cell_type": "code",
   "execution_count": null,
   "metadata": {
    "collapsed": true
   },
   "outputs": [],
   "source": []
  },
  {
   "cell_type": "code",
   "execution_count": null,
   "metadata": {
    "collapsed": true
   },
   "outputs": [],
   "source": []
  }
 ],
 "metadata": {
  "anaconda-cloud": {},
  "kernelspec": {
   "display_name": "Python [conda env:tensorflow]",
   "language": "python",
   "name": "conda-env-tensorflow-py"
  },
  "language_info": {
   "codemirror_mode": {
    "name": "ipython",
    "version": 3
   },
   "file_extension": ".py",
   "mimetype": "text/x-python",
   "name": "python",
   "nbconvert_exporter": "python",
   "pygments_lexer": "ipython3",
   "version": "3.5.3"
  }
 },
 "nbformat": 4,
 "nbformat_minor": 1
}
